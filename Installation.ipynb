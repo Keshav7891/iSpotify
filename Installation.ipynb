{
 "cells": [
  {
   "cell_type": "code",
   "execution_count": 1,
   "id": "c7d937d1",
   "metadata": {},
   "outputs": [
    {
     "name": "stdout",
     "output_type": "stream",
     "text": [
      "Python 3.9.7\n"
     ]
    }
   ],
   "source": [
    "!python --version"
   ]
  },
  {
   "cell_type": "code",
   "execution_count": 5,
   "id": "2e847abb",
   "metadata": {},
   "outputs": [
    {
     "name": "stdout",
     "output_type": "stream",
     "text": [
      "Name: spotipy\n",
      "Version: 2.19.0\n",
      "Summary: A light weight Python library for the Spotify Web API\n",
      "Home-page: https://spotipy.readthedocs.org/\n",
      "Author: @plamere\n",
      "Author-email: paul@echonest.com\n",
      "License: MIT\n",
      "Location: c:\\programdata\\anaconda3\\lib\\site-packages\n",
      "Requires: urllib3, requests, six\n",
      "Required-by: \n"
     ]
    }
   ],
   "source": [
    "!pip show spotipy"
   ]
  },
  {
   "cell_type": "code",
   "execution_count": null,
   "id": "06c49d3e",
   "metadata": {},
   "outputs": [],
   "source": []
  },
  {
   "cell_type": "code",
   "execution_count": null,
   "id": "359a13a8",
   "metadata": {},
   "outputs": [],
   "source": []
  }
 ],
 "metadata": {
  "kernelspec": {
   "display_name": "Python 3 (ipykernel)",
   "language": "python",
   "name": "python3"
  },
  "language_info": {
   "codemirror_mode": {
    "name": "ipython",
    "version": 3
   },
   "file_extension": ".py",
   "mimetype": "text/x-python",
   "name": "python",
   "nbconvert_exporter": "python",
   "pygments_lexer": "ipython3",
   "version": "3.9.7"
  }
 },
 "nbformat": 4,
 "nbformat_minor": 5
}
